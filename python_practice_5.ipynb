{
  "nbformat": 4,
  "nbformat_minor": 0,
  "metadata": {
    "colab": {
      "provenance": []
    },
    "kernelspec": {
      "name": "python3",
      "display_name": "Python 3"
    },
    "language_info": {
      "name": "python"
    }
  },
  "cells": [
    {
      "cell_type": "markdown",
      "source": [
        "# I. OOP"
      ],
      "metadata": {
        "id": "5qV_sehzFCTp"
      }
    },
    {
      "cell_type": "markdown",
      "source": [
        "1. (6б). Створіть клас Animal, додайте три атрибути, один з яких має значення за замовчуванням та два методи на свій розсуд."
      ],
      "metadata": {
        "id": "tx_U_hOALyfg"
      }
    },
    {
      "cell_type": "code",
      "source": [
        "class Animal:\n",
        "    def __init__(self, name, species, breeds=\"\"):\n",
        "        self.name = name\n",
        "        self.species = species\n",
        "        self.breeds = breeds\n",
        "\n",
        "    def make_breed(self):\n",
        "        if self.breeds:\n",
        "            print(f\"I am {self.name} and my breed is {self.breeds}!\")\n",
        "        else:\n",
        "            print(f\"I'm {self.name} and i'm breedless.\")\n",
        "\n",
        "    def introduce(self):\n",
        "        print(f\"Howdy! I'm {self.name}, my breed is {self.species}.\")\n",
        "my_pet = Animal(\"Lee\", \"scottish fold\", \"scottish fold\")\n",
        "my_pet.make_breed()\n",
        "my_pet.introduce()"
      ],
      "metadata": {
        "id": "-Vf895KaL88N",
        "colab": {
          "base_uri": "https://localhost:8080/"
        },
        "outputId": "a66dcba2-aca9-498d-b9ba-d274781e1269"
      },
      "execution_count": 2,
      "outputs": [
        {
          "output_type": "stream",
          "name": "stdout",
          "text": [
            "I am Lee and my breed is scottish fold!\n",
            "Howdy! I'm Lee, my breed is scottish fold.\n"
          ]
        }
      ]
    },
    {
      "cell_type": "markdown",
      "source": [
        "2. (2б). Створіть два обʼєкти цього класу, де один з обʼєктів створюється із дефолтним значенням атрибуту. На одному обʼєкті отримайте значення його атрибуту, а на іншому викличте один з його методів."
      ],
      "metadata": {
        "id": "X_UlOMB0L93w"
      }
    },
    {
      "cell_type": "code",
      "source": [
        "class Animal:\n",
        "    def __init__(self, name, species, breeds=\"\"):\n",
        "        self.name = name\n",
        "        self.species = species\n",
        "        self.breeds = breeds\n",
        "\n",
        "    def make_breed(self):\n",
        "        if self.breeds:\n",
        "            print(f\"I am {self.name} and my breed is {self.breeds}!\")\n",
        "        else:\n",
        "            print(f\"I'm {self.name} and I'm breedless.\")\n",
        "\n",
        "    def introduce(self):\n",
        "        print(f\"Howdy! I'm {self.name}, my breed is {self.species}.\")"
      ],
      "metadata": {
        "id": "TlqVz6r5jRjK"
      },
      "execution_count": 3,
      "outputs": []
    },
    {
      "cell_type": "code",
      "source": [
        "default_cat = Animal(\"Molly\", \"canadian sphinx\")"
      ],
      "metadata": {
        "id": "2gTqa_9fCfJD"
      },
      "execution_count": 4,
      "outputs": []
    },
    {
      "cell_type": "code",
      "source": [
        "cat1 = Animal(\"Lee\", \"scottish fold\", \"scottish fold\")"
      ],
      "metadata": {
        "id": "15yplBilCj76"
      },
      "execution_count": 5,
      "outputs": []
    },
    {
      "cell_type": "code",
      "source": [
        "default_cat.introduce()"
      ],
      "metadata": {
        "colab": {
          "base_uri": "https://localhost:8080/"
        },
        "id": "RxsvT1bPCmpZ",
        "outputId": "dd7bdf94-11c8-4922-ebe1-8cedd859626c"
      },
      "execution_count": 6,
      "outputs": [
        {
          "output_type": "stream",
          "name": "stdout",
          "text": [
            "Howdy! I'm Max, my breed is mixed breed.\n"
          ]
        }
      ]
    },
    {
      "cell_type": "code",
      "source": [
        "cat1.make_breed()"
      ],
      "metadata": {
        "colab": {
          "base_uri": "https://localhost:8080/"
        },
        "id": "KwBMyiCPCti7",
        "outputId": "e71347be-b7bf-4581-a75d-caed42592998"
      },
      "execution_count": 7,
      "outputs": [
        {
          "output_type": "stream",
          "name": "stdout",
          "text": [
            "I am Lee and my breed is scottish fold!\n"
          ]
        }
      ]
    },
    {
      "cell_type": "markdown",
      "source": [
        "3. (5б). Створіть клас, де атрибути мають різні рівні доступу. Спробуйте отримати їхні значення та опишіть результати."
      ],
      "metadata": {
        "id": "HoqSCZt1MHn5"
      }
    },
    {
      "cell_type": "code",
      "source": [
        "class Cat:\n",
        "    def __init__(self, name, age):\n",
        "        self.name = name\n",
        "        self._age = age\n",
        "        self.__temper = \"funny\"\n",
        "\n",
        "    def get_temper(self):\n",
        "        return self.__temper\n",
        "\n",
        "    def set_mood(self, temper):\n",
        "        self.__temper = temper"
      ],
      "metadata": {
        "id": "r9b3vJxBMSPV"
      },
      "execution_count": 9,
      "outputs": []
    },
    {
      "cell_type": "code",
      "source": [
        "cat1 = Cat(\"Tosya\", 7)"
      ],
      "metadata": {
        "id": "F4SX6ftGD2L6"
      },
      "execution_count": 10,
      "outputs": []
    },
    {
      "cell_type": "code",
      "source": [
        "print(\"Cat's name:\", cat1.name)"
      ],
      "metadata": {
        "colab": {
          "base_uri": "https://localhost:8080/"
        },
        "id": "29UVks2uD7rT",
        "outputId": "d4b82a79-c4a6-44d4-845c-deaa84daee77"
      },
      "execution_count": 13,
      "outputs": [
        {
          "output_type": "stream",
          "name": "stdout",
          "text": [
            "Cat's name: Tosya\n"
          ]
        }
      ]
    },
    {
      "cell_type": "code",
      "source": [
        "print(\"Cat's age:\", cat1._age)"
      ],
      "metadata": {
        "colab": {
          "base_uri": "https://localhost:8080/"
        },
        "id": "Sltl4OCvEA4i",
        "outputId": "f89fe501-9209-407e-b525-83eef635cba5"
      },
      "execution_count": 14,
      "outputs": [
        {
          "output_type": "stream",
          "name": "stdout",
          "text": [
            "Cat's age: 7\n"
          ]
        }
      ]
    },
    {
      "cell_type": "code",
      "source": [
        "print(\"Cat's temper:\", cat1.get_temper())"
      ],
      "metadata": {
        "colab": {
          "base_uri": "https://localhost:8080/"
        },
        "id": "QIvS_O9-EFFx",
        "outputId": "495972ce-c1cc-4928-c8ce-e2bf114a5677"
      },
      "execution_count": 16,
      "outputs": [
        {
          "output_type": "stream",
          "name": "stdout",
          "text": [
            "Cat's temper: funny\n"
          ]
        }
      ]
    },
    {
      "cell_type": "code",
      "source": [
        "print(\"Cat's temper:\", cat1.get_temper())"
      ],
      "metadata": {
        "colab": {
          "base_uri": "https://localhost:8080/"
        },
        "id": "PtWVV0jrELt0",
        "outputId": "4b482973-4458-4e7e-ab2e-27c483effe5a"
      },
      "execution_count": 21,
      "outputs": [
        {
          "output_type": "stream",
          "name": "stdout",
          "text": [
            "Cat's temper: funny\n"
          ]
        }
      ]
    },
    {
      "cell_type": "markdown",
      "source": [
        "4. (7б). Як ви розумієте термін self? Для чого використовується метод __init __?"
      ],
      "metadata": {
        "id": "5op2m2vgMSkZ"
      }
    },
    {
      "cell_type": "markdown",
      "source": [
        "Self - це параметр, який є посиланням на об'єкт класу, допомагає отримати доступ для його атрибутів.\n",
        "__init__ - це метод, завдяки якому ми встановлюємо значень для атрибутів об'єкта."
      ],
      "metadata": {
        "id": "DyiPqNRvMasx"
      }
    },
    {
      "cell_type": "markdown",
      "source": [
        "5. (9б). Створіть клас Фігура без атрибутів, з методом get_area для отримання площі фігури, що повертає 0 та __add __, який приймає self та other в якості аргументів, а повертає суму площин фігур self та other."
      ],
      "metadata": {
        "id": "-6X8EGfjMd2y"
      }
    },
    {
      "cell_type": "code",
      "source": [
        "class Figure:\n",
        "    def get_area(self):\n",
        "        return 0\n",
        "\n",
        "    def __add__(self, other):\n",
        "        if isinstance(other, Figure):\n",
        "            return self.get_area() + other.get_area()\n",
        "        else:\n",
        "            return NotImplemented"
      ],
      "metadata": {
        "id": "4rvO_wYUMaEr"
      },
      "execution_count": 23,
      "outputs": []
    },
    {
      "cell_type": "code",
      "source": [
        "if __name__ == \"__main__\":\n",
        "    figure1 = Figure()\n",
        "    figure2 = Figure()\n",
        "    area1 = figure1.get_area()\n",
        "    area2 = figure2.get_area()\n",
        "    total_area = figure1 + figure2"
      ],
      "metadata": {
        "id": "ZUns0GMdFJdx"
      },
      "execution_count": 24,
      "outputs": []
    },
    {
      "cell_type": "code",
      "source": [
        "print(\"Area of figure 1:\", area1)"
      ],
      "metadata": {
        "colab": {
          "base_uri": "https://localhost:8080/"
        },
        "id": "a6BWIlsnFUvt",
        "outputId": "3b1e139c-283a-48d5-a945-3b0cbca4bf4e"
      },
      "execution_count": 30,
      "outputs": [
        {
          "output_type": "stream",
          "name": "stdout",
          "text": [
            "Area of figure 1: 0\n"
          ]
        }
      ]
    },
    {
      "cell_type": "code",
      "source": [
        "print(\"Area of figure 2:\", area2)"
      ],
      "metadata": {
        "colab": {
          "base_uri": "https://localhost:8080/"
        },
        "id": "WJ7nL9NvFXgg",
        "outputId": "d8b945d1-2f62-4ded-8bf6-fe119a046f89"
      },
      "execution_count": 31,
      "outputs": [
        {
          "output_type": "stream",
          "name": "stdout",
          "text": [
            "Area of figure 2: 0\n"
          ]
        }
      ]
    },
    {
      "cell_type": "code",
      "source": [
        "print(\"Sum of two areas:\", total_area)"
      ],
      "metadata": {
        "colab": {
          "base_uri": "https://localhost:8080/"
        },
        "id": "-HB5k3hTFZ-6",
        "outputId": "bb680205-2882-4665-c119-54b868ec6296"
      },
      "execution_count": 32,
      "outputs": [
        {
          "output_type": "stream",
          "name": "stdout",
          "text": [
            "Sum of two areas: 0\n"
          ]
        }
      ]
    },
    {
      "cell_type": "markdown",
      "source": [
        "6. (11б). Створіть 2 дочірніх класи від Фігури: Трикутник та Коло, які мають атрибути, необхідні для розрахунку площин. Визначте метод get_area в кожному з них так, щоби вони розраховували площу в залежності від формули для кожного типу фігури. Створіть обʼєкт класу Трикутник та обʼєкт класу Коло. Виконайте операцію суми за допомогою оператора + між ними."
      ],
      "metadata": {
        "id": "SFcKnnv5Mo_z"
      }
    },
    {
      "cell_type": "code",
      "source": [
        "import math\n",
        "\n",
        "class Figure:\n",
        "    def get_area(self):\n",
        "        return 0\n",
        "\n",
        "    def __add__(self, other):\n",
        "        if isinstance(other, Figure):\n",
        "            return self.get_area() + other.get_area()\n",
        "        else:\n",
        "            return NotImplemented"
      ],
      "metadata": {
        "id": "H3GVNr69Muf3"
      },
      "execution_count": 34,
      "outputs": []
    },
    {
      "cell_type": "code",
      "source": [
        "class Triangle(Figure):\n",
        "    def __init__(self, base, height):\n",
        "        self.base = base\n",
        "        self.height = height\n",
        "\n",
        "    def get_area(self):\n",
        "        return 0.5 * self.base * self.height\n",
        "\n",
        "class Circle(Figure):\n",
        "    def __init__(self, radius):\n",
        "        self.radius = radius\n",
        "\n",
        "    def get_area(self):\n",
        "        return math.pi * self.radius ** 2"
      ],
      "metadata": {
        "id": "WYZtWqUXLNcZ"
      },
      "execution_count": 35,
      "outputs": []
    },
    {
      "cell_type": "code",
      "source": [
        "triangle = Triangle(11, 4)\n",
        "circle = Circle(9)"
      ],
      "metadata": {
        "id": "mRL8vNoELeqg"
      },
      "execution_count": 36,
      "outputs": []
    },
    {
      "cell_type": "code",
      "source": [
        "print(\"Area of triangle:\", triangle)"
      ],
      "metadata": {
        "colab": {
          "base_uri": "https://localhost:8080/"
        },
        "id": "aoeiX_EhLl7w",
        "outputId": "cc80c8a8-fe80-464c-d91a-f508645e6b1f"
      },
      "execution_count": 40,
      "outputs": [
        {
          "output_type": "stream",
          "name": "stdout",
          "text": [
            "Area of triangle: <__main__.Triangle object at 0x7e706c921960>\n"
          ]
        }
      ]
    },
    {
      "cell_type": "code",
      "source": [
        "print(\"Area of circle:\", circle)"
      ],
      "metadata": {
        "colab": {
          "base_uri": "https://localhost:8080/"
        },
        "id": "EqqmhctgLm0l",
        "outputId": "843b4286-b1da-496b-aaec-7459fa68f0ca"
      },
      "execution_count": 42,
      "outputs": [
        {
          "output_type": "stream",
          "name": "stdout",
          "text": [
            "Area of circle: <__main__.Circle object at 0x7e706c922ec0>\n"
          ]
        }
      ]
    },
    {
      "cell_type": "code",
      "source": [
        "print(\"Sum of areas:\", total_area)"
      ],
      "metadata": {
        "colab": {
          "base_uri": "https://localhost:8080/"
        },
        "id": "PR6x25vCLrGB",
        "outputId": "b90d05fd-0877-4e8b-b567-d127b76dc120"
      },
      "execution_count": 44,
      "outputs": [
        {
          "output_type": "stream",
          "name": "stdout",
          "text": [
            "Sum of areas: 0\n"
          ]
        }
      ]
    },
    {
      "cell_type": "markdown",
      "source": [
        "7. (3б). Продемонструйте різницю між isinstance та issubclass."
      ],
      "metadata": {
        "id": "HCvR206YMvLK"
      }
    },
    {
      "cell_type": "code",
      "source": [
        "class Owner:\n",
        "    pass\n",
        "\n",
        "class Cat(Owner):\n",
        "    pass"
      ],
      "metadata": {
        "id": "L_V1bBvDM0GN"
      },
      "execution_count": 46,
      "outputs": []
    },
    {
      "cell_type": "code",
      "source": [
        "cat_instance = Cat()\n",
        "print(isinstance(cat_instance, Cat))"
      ],
      "metadata": {
        "colab": {
          "base_uri": "https://localhost:8080/"
        },
        "id": "V0txdWubMvdT",
        "outputId": "dfadc16e-bc91-497f-b5f2-e219c554ffec"
      },
      "execution_count": 47,
      "outputs": [
        {
          "output_type": "stream",
          "name": "stdout",
          "text": [
            "True\n"
          ]
        }
      ]
    },
    {
      "cell_type": "code",
      "source": [
        "print(isinstance(cat_instance, Owner))"
      ],
      "metadata": {
        "colab": {
          "base_uri": "https://localhost:8080/"
        },
        "id": "XLTHfxuKM2lQ",
        "outputId": "4d03123a-3bc8-4291-e353-0516aeb44721"
      },
      "execution_count": 48,
      "outputs": [
        {
          "output_type": "stream",
          "name": "stdout",
          "text": [
            "True\n"
          ]
        }
      ]
    },
    {
      "cell_type": "code",
      "source": [
        "print(issubclass(Cat, Owner))"
      ],
      "metadata": {
        "colab": {
          "base_uri": "https://localhost:8080/"
        },
        "id": "gb3l1_MrM1Ji",
        "outputId": "a3fc81a1-a6be-413e-c9b8-98b34c5281f0"
      },
      "execution_count": 49,
      "outputs": [
        {
          "output_type": "stream",
          "name": "stdout",
          "text": [
            "True\n"
          ]
        }
      ]
    },
    {
      "cell_type": "markdown",
      "source": [
        "8. (13б). Створіть клас BankAccount з приватними атрибутами balance та account_number. Реалізуйте методи поповнення та зняття коштів, забезпечивши належну інкапсуляцію. Підказка: використовуйте декоратори property та setter."
      ],
      "metadata": {
        "id": "jjsaBZ-iM0Qq"
      }
    },
    {
      "cell_type": "code",
      "source": [
        "class BankAccount:\n",
        "    def __init__(self, account_number, initial_balance=0):\n",
        "        self._account_number = account_number\n",
        "        self._balance = initial_balance\n",
        "\n",
        "    @property\n",
        "    def account_number(self):\n",
        "        return self._account_number\n",
        "\n",
        "    @property\n",
        "    def balance(self):\n",
        "        return self._balance\n",
        "\n",
        "    def deposit(self, amount):\n",
        "        if amount > 0:\n",
        "            self._balance += amount\n",
        "            print(f\"Deposited ${amount}. Your new balance: ${self._balance}\")\n",
        "        else:\n",
        "            print(\"Error: Deposit amount must be positive.\")"
      ],
      "metadata": {
        "id": "xCvZ7lh8M7YA"
      },
      "execution_count": 51,
      "outputs": []
    },
    {
      "cell_type": "code",
      "source": [
        "def withdraw(self, amount):\n",
        "        if 0 < amount <= self._balance:\n",
        "            self._balance -= amount\n",
        "            print(f\"Withdrew ${amount}. Your new balance: ${self._balance}\")\n",
        "        else:\n",
        "            print(\"Error: Withdrawal amount must be positive and less/equal to balance.\")"
      ],
      "metadata": {
        "id": "ZPjF6HdNN626"
      },
      "execution_count": null,
      "outputs": []
    },
    {
      "cell_type": "code",
      "source": [
        "if __name__ == \"__main__\":\n",
        "  account = BankAccount(\"99999999\", 1500)"
      ],
      "metadata": {
        "id": "GKmmC2VKOOMr"
      },
      "execution_count": null,
      "outputs": []
    },
    {
      "cell_type": "code",
      "source": [
        "print(\"Account Number:\", account.account_number)"
      ],
      "metadata": {
        "id": "p3hjx9bEOfYh"
      },
      "execution_count": null,
      "outputs": []
    },
    {
      "cell_type": "code",
      "source": [
        "print(\"Current Balance:\", account.balance)"
      ],
      "metadata": {
        "id": "lMWeXGS-OhQg"
      },
      "execution_count": null,
      "outputs": []
    },
    {
      "cell_type": "code",
      "source": [
        "account.deposit(450)"
      ],
      "metadata": {
        "id": "Ptag8IVXOh3R"
      },
      "execution_count": null,
      "outputs": []
    },
    {
      "cell_type": "code",
      "source": [
        "account.withdraw(6700)"
      ],
      "metadata": {
        "id": "omhAbX8iOnMo"
      },
      "execution_count": null,
      "outputs": []
    },
    {
      "cell_type": "code",
      "source": [
        "account.withdraw(678)"
      ],
      "metadata": {
        "id": "OjxJ69OPOqUA"
      },
      "execution_count": null,
      "outputs": []
    },
    {
      "cell_type": "markdown",
      "source": [
        "9. (11б). Створіть клас Library, який містить список об'єктів типу Book. Реалізуйте методи для додавання книги, видалення книги та відображення списку книг."
      ],
      "metadata": {
        "id": "tIzL2SJTM8ft"
      }
    },
    {
      "cell_type": "code",
      "source": [
        "library = Library()"
      ],
      "metadata": {
        "id": "m4R362NSRpaY"
      },
      "execution_count": 63,
      "outputs": []
    },
    {
      "cell_type": "code",
      "source": [
        "class Book:\n",
        "    def __init__(self, title, author):\n",
        "        self.title = title\n",
        "        self.author = author"
      ],
      "metadata": {
        "id": "HWxfJKLtNAUZ"
      },
      "execution_count": 52,
      "outputs": []
    },
    {
      "cell_type": "code",
      "source": [
        "class Library:\n",
        "    def __init__(self):\n",
        "        self.books = []\n",
        "\n",
        "    def add_book(self, book):\n",
        "        self.books.append(book)\n",
        "        print(f\"Book '{book.title}' by {book.author} has been added to your personal library.\")"
      ],
      "metadata": {
        "id": "F31VpPBuO5iQ"
      },
      "execution_count": 53,
      "outputs": []
    },
    {
      "cell_type": "code",
      "source": [
        "def remove_book(self, title):\n",
        "        for book in self.books:\n",
        "            if book.title == title:\n",
        "                self.books.remove(book)\n",
        "                print(f\"Book '{title}' has been removed from your personal library.\")\n",
        "                return\n",
        "        print(f\"Book '{title}' not found in your personal library.\")"
      ],
      "metadata": {
        "id": "WL8rzLtxPArq"
      },
      "execution_count": 54,
      "outputs": []
    },
    {
      "cell_type": "code",
      "source": [
        "def display_books(self):\n",
        "        if self.books:\n",
        "            print(\"Books in your personal library:\")\n",
        "            for book in self.books:\n",
        "                print(f\"- {book.title} by {book.author}\")\n",
        "        else:\n",
        "            print(\"Your personal library is empty.\")"
      ],
      "metadata": {
        "id": "PE53uxJ0PBcI"
      },
      "execution_count": 55,
      "outputs": []
    },
    {
      "cell_type": "code",
      "source": [
        "if __name__ == \"__main__\":\n",
        "    library = Library()"
      ],
      "metadata": {
        "id": "ryz2gp_2PD1x"
      },
      "execution_count": 56,
      "outputs": []
    },
    {
      "cell_type": "code",
      "source": [
        "book1 = Book(\"Cruel Prince\", \"Holly Black\")\n",
        "book2 = Book(\"The Lord Of The Rings\", \"J.R.R. Tolkien\")\n",
        "book3 = Book(\"Howl`s moving castle\", \"Neil Gaiman\")\n",
        "book4 = Book(\"Beren and Luthien\",\"J.R.R. Tolkien\")\n",
        "book5 = Book(\"The Chronicles of Narnia\",\"C.S.Lewis\")"
      ],
      "metadata": {
        "id": "1n79GEdyPLrI"
      },
      "execution_count": 57,
      "outputs": []
    },
    {
      "cell_type": "code",
      "source": [
        "library.add_book(book1)\n",
        "library.add_book(book2)\n",
        "library.add_book(book3)\n",
        "library.add_book(book4)\n",
        "library.add_book(book5)"
      ],
      "metadata": {
        "colab": {
          "base_uri": "https://localhost:8080/"
        },
        "id": "Q7JXuNZRPXsX",
        "outputId": "7118e0fc-6ea2-4a75-e028-153b8cc8ee1c"
      },
      "execution_count": 58,
      "outputs": [
        {
          "output_type": "stream",
          "name": "stdout",
          "text": [
            "Book 'Cruel Prince' by Holly Black has been added to your personal library.\n",
            "Book 'The Lord Of The Rings' by J.R.R. Tolkien has been added to your personal library.\n",
            "Book 'Howl`s moving castle' by Neil Gaiman has been added to your personal library.\n",
            "Book 'Beren and Luthien' by J.R.R. Tolkien has been added to your personal library.\n",
            "Book 'The Chronicles of Narnia' by C.S.Lewis has been added to your personal library.\n"
          ]
        }
      ]
    },
    {
      "cell_type": "code",
      "source": [
        "library.display_books()"
      ],
      "metadata": {
        "colab": {
          "base_uri": "https://localhost:8080/",
          "height": 141
        },
        "id": "aHhow_VVPiFM",
        "outputId": "535d90b2-1ea8-4b8e-f2d1-01f39cd69218"
      },
      "execution_count": 64,
      "outputs": [
        {
          "output_type": "error",
          "ename": "AttributeError",
          "evalue": "'Library' object has no attribute 'display_books'",
          "traceback": [
            "\u001b[0;31m---------------------------------------------------------------------------\u001b[0m",
            "\u001b[0;31mAttributeError\u001b[0m                            Traceback (most recent call last)",
            "\u001b[0;32m<ipython-input-64-a22e9136d609>\u001b[0m in \u001b[0;36m<cell line: 1>\u001b[0;34m()\u001b[0m\n\u001b[0;32m----> 1\u001b[0;31m \u001b[0mlibrary\u001b[0m\u001b[0;34m.\u001b[0m\u001b[0mdisplay_books\u001b[0m\u001b[0;34m(\u001b[0m\u001b[0;34m)\u001b[0m\u001b[0;34m\u001b[0m\u001b[0;34m\u001b[0m\u001b[0m\n\u001b[0m",
            "\u001b[0;31mAttributeError\u001b[0m: 'Library' object has no attribute 'display_books'"
          ]
        }
      ]
    },
    {
      "cell_type": "code",
      "source": [
        "library.remove_book(\"Beren and Luthien\")"
      ],
      "metadata": {
        "colab": {
          "base_uri": "https://localhost:8080/",
          "height": 141
        },
        "id": "W33tnsu8Pi0D",
        "outputId": "569086e8-87cb-4bc1-c18b-864622e6bd98"
      },
      "execution_count": 65,
      "outputs": [
        {
          "output_type": "error",
          "ename": "AttributeError",
          "evalue": "'Library' object has no attribute 'remove_book'",
          "traceback": [
            "\u001b[0;31m---------------------------------------------------------------------------\u001b[0m",
            "\u001b[0;31mAttributeError\u001b[0m                            Traceback (most recent call last)",
            "\u001b[0;32m<ipython-input-65-099548847346>\u001b[0m in \u001b[0;36m<cell line: 1>\u001b[0;34m()\u001b[0m\n\u001b[0;32m----> 1\u001b[0;31m \u001b[0mlibrary\u001b[0m\u001b[0;34m.\u001b[0m\u001b[0mremove_book\u001b[0m\u001b[0;34m(\u001b[0m\u001b[0;34m\"Beren and Luthien\"\u001b[0m\u001b[0;34m)\u001b[0m\u001b[0;34m\u001b[0m\u001b[0;34m\u001b[0m\u001b[0m\n\u001b[0m",
            "\u001b[0;31mAttributeError\u001b[0m: 'Library' object has no attribute 'remove_book'"
          ]
        }
      ]
    },
    {
      "cell_type": "code",
      "source": [
        "library.display_books()"
      ],
      "metadata": {
        "colab": {
          "base_uri": "https://localhost:8080/",
          "height": 141
        },
        "id": "1E6IxwmXPlNa",
        "outputId": "c5d2a95d-8393-4404-ce5c-04f82857f463"
      },
      "execution_count": 62,
      "outputs": [
        {
          "output_type": "error",
          "ename": "AttributeError",
          "evalue": "'Library' object has no attribute 'display_books'",
          "traceback": [
            "\u001b[0;31m---------------------------------------------------------------------------\u001b[0m",
            "\u001b[0;31mAttributeError\u001b[0m                            Traceback (most recent call last)",
            "\u001b[0;32m<ipython-input-62-a22e9136d609>\u001b[0m in \u001b[0;36m<cell line: 1>\u001b[0;34m()\u001b[0m\n\u001b[0;32m----> 1\u001b[0;31m \u001b[0mlibrary\u001b[0m\u001b[0;34m.\u001b[0m\u001b[0mdisplay_books\u001b[0m\u001b[0;34m(\u001b[0m\u001b[0;34m)\u001b[0m\u001b[0;34m\u001b[0m\u001b[0;34m\u001b[0m\u001b[0m\n\u001b[0m",
            "\u001b[0;31mAttributeError\u001b[0m: 'Library' object has no attribute 'display_books'"
          ]
        }
      ]
    },
    {
      "cell_type": "markdown",
      "source": [
        "10. (13б). Створіть клас Person з атрибутами name та age. Створіть ще один клас Employee з такими атрибутами, як department та salary. Створіть клас Manager, який успадковує обидва класи Person та Employee. Продемонструйте використання множинної спадковості, створивши обʼєкт класу Manager та отримавши mro для цього класу."
      ],
      "metadata": {
        "id": "lmV8pAwwNIqu"
      }
    },
    {
      "cell_type": "code",
      "source": [
        "class Person:\n",
        "    def __init__(self, name, age):\n",
        "        self.name = name\n",
        "        self.age = age\n",
        "\n",
        "class Employee:\n",
        "    def __init__(self, department, salary):\n",
        "        self.department = department\n",
        "        self.salary = salary\n",
        "\n",
        "class Manager(Person, Employee):\n",
        "    def __init__(self, name, age, department, salary, title):\n",
        "        # Виклик конструкторів класів Person та Employee\n",
        "        Person.__init__(self, name, age)\n",
        "        Employee.__init__(self, department, salary)\n",
        "        self.title = title"
      ],
      "metadata": {
        "id": "R49grKlWNPeN"
      },
      "execution_count": 66,
      "outputs": []
    },
    {
      "cell_type": "code",
      "source": [
        "manager = Manager(name=\"Liza Maslovska\", age=26, department=\"Finance\", salary=56000, title=\"Finance Manager\")"
      ],
      "metadata": {
        "id": "5lD1lAD9S6Xv"
      },
      "execution_count": null,
      "outputs": []
    },
    {
      "cell_type": "code",
      "source": [
        "print(f\"Name: {manager.name}\")\n",
        "print(f\"Age: {manager.age}\")\n",
        "print(f\"Department: {manager.department}\")\n",
        "print(f\"Salary: ${manager.salary}\")\n",
        "print(f\"Title: {manager.title}\")"
      ],
      "metadata": {
        "id": "khMVWqEDSv0I"
      },
      "execution_count": null,
      "outputs": []
    },
    {
      "cell_type": "code",
      "source": [
        "print(f\"Name: {manager.name}\")\n",
        "print(f\"Age: {manager.age}\")\n",
        "print(f\"Department: {manager.department}\")\n",
        "print(f\"Salary: ${manager.salary}\")\n",
        "print(f\"Title: {manager.title}\")\n"
      ],
      "metadata": {
        "id": "ib4TFLnHTMnS"
      },
      "execution_count": null,
      "outputs": []
    },
    {
      "cell_type": "code",
      "source": [
        "print(\"Method Resolution Order (MRO) for Manager:\", Manager.mro())"
      ],
      "metadata": {
        "colab": {
          "base_uri": "https://localhost:8080/"
        },
        "id": "HOhPCO2QTPOr",
        "outputId": "0bf4cf32-e753-4726-b98d-6f234e333a77"
      },
      "execution_count": 70,
      "outputs": [
        {
          "output_type": "stream",
          "name": "stdout",
          "text": [
            "Method Resolution Order (MRO) for Manager: [<class '__main__.Manager'>, <class '__main__.Person'>, <class '__main__.Employee'>, <class 'object'>]\n"
          ]
        }
      ]
    },
    {
      "cell_type": "markdown",
      "source": [
        "# II. Iterator"
      ],
      "metadata": {
        "id": "dIJyUiNBFG8G"
      }
    },
    {
      "cell_type": "markdown",
      "source": [
        "11. (4б). Визначте рядок(str) з 4ма різними за значенням символами. Створіть ітератор на основі цього рядка. Викличте 5 разів функцію next на ітераторі, 4ри перших з них огорніть у ф-цію print()."
      ],
      "metadata": {
        "id": "13vsm0NyKIzL"
      }
    },
    {
      "cell_type": "code",
      "source": [
        "my_string = \"idle\""
      ],
      "metadata": {
        "id": "81ntabAkKuz-"
      },
      "execution_count": 71,
      "outputs": []
    },
    {
      "cell_type": "code",
      "source": [
        "my_iterator = iter(my_string)"
      ],
      "metadata": {
        "id": "iyWR0ncNTabx"
      },
      "execution_count": 72,
      "outputs": []
    },
    {
      "cell_type": "code",
      "source": [
        "for _ in range(5):\n",
        "    try:\n",
        "        value = next(my_iterator)\n",
        "        if value:\n",
        "            print(value)\n",
        "    except StopIteration:\n",
        "        print(\"The end\")\n",
        "        break"
      ],
      "metadata": {
        "colab": {
          "base_uri": "https://localhost:8080/"
        },
        "id": "x4ab3w3RTc_v",
        "outputId": "e0e584d7-320e-4d90-b8cf-af8bb64c5a3a"
      },
      "execution_count": 73,
      "outputs": [
        {
          "output_type": "stream",
          "name": "stdout",
          "text": [
            "i\n",
            "d\n",
            "l\n",
            "e\n",
            "End of iteration\n"
          ]
        }
      ]
    },
    {
      "cell_type": "markdown",
      "source": [
        "А що якщо викликати цю ж функцію на рядку?"
      ],
      "metadata": {
        "id": "aekWHGXOLRsO"
      }
    },
    {
      "cell_type": "code",
      "source": [
        "my_string = \"idle\"\n",
        "my_iterator = iter(my_string)\n",
        "\n",
        "for _ in range(5):\n",
        "    try:\n",
        "        value = next(my_iterator)\n",
        "        if value:\n",
        "            print(value)\n",
        "    except StopIteration:\n",
        "        print(\"The end\")\n",
        "        break"
      ],
      "metadata": {
        "id": "mxATGsErLV1i",
        "colab": {
          "base_uri": "https://localhost:8080/"
        },
        "outputId": "d5b0e618-bb1d-4783-b774-a92d948b06ae"
      },
      "execution_count": 74,
      "outputs": [
        {
          "output_type": "stream",
          "name": "stdout",
          "text": [
            "i\n",
            "d\n",
            "l\n",
            "e\n",
            "The end\n"
          ]
        }
      ]
    },
    {
      "cell_type": "markdown",
      "source": [
        " 12. (5б). Опишіть своїми словами в одному реченні, як ви розумієте різницю між ітерабельними обʼєктами та ітераторами (можна на прикладі)."
      ],
      "metadata": {
        "id": "XwtMEopwJ4pH"
      }
    },
    {
      "cell_type": "markdown",
      "source": [
        "Ітерабельні об'єкти - це об'єкти, які можна перебирати по елементах, як-от по списках, а ітератори - це об'єкти, які дозволяють отримувати доступ до елементів ітерабельних об'єктів."
      ],
      "metadata": {
        "id": "-sHrODc3KFn8"
      }
    },
    {
      "cell_type": "markdown",
      "source": [
        "13. (11б). Створіть клас, що має визначений Iterator Protocol та при кожному виклику next повертає літери англійської абетки, поки вони не вичерпаються."
      ],
      "metadata": {
        "id": "E9qJWmNbK8Gl"
      }
    },
    {
      "cell_type": "code",
      "source": [
        "class AlphabetIterator:\n",
        "    def __init__(self):\n",
        "        self.current_letter = ord('a')\n",
        "\n",
        "    def __iter__(self):\n",
        "        return self\n",
        "\n",
        "    def __next__(self):\n",
        "        if self.current_letter <= ord('z'):\n",
        "            letter = chr(self.current_letter)\n",
        "            self.current_letter += 1\n",
        "            return letter\n",
        "        else:\n",
        "            raise StopIteration"
      ],
      "metadata": {
        "id": "cqx-g_RsLo6I"
      },
      "execution_count": 75,
      "outputs": []
    },
    {
      "cell_type": "code",
      "source": [
        "alphabet_iterator = AlphabetIterator()"
      ],
      "metadata": {
        "id": "30rOjw0pT6GB"
      },
      "execution_count": 76,
      "outputs": []
    },
    {
      "cell_type": "code",
      "source": [
        "for _ in range(26):\n",
        "    print(next(alphabet_iterator))"
      ],
      "metadata": {
        "colab": {
          "base_uri": "https://localhost:8080/"
        },
        "id": "E_GxK-bDT7-R",
        "outputId": "20de497e-8d1e-457b-e5d2-21d569e20726"
      },
      "execution_count": 77,
      "outputs": [
        {
          "output_type": "stream",
          "name": "stdout",
          "text": [
            "a\n",
            "b\n",
            "c\n",
            "d\n",
            "e\n",
            "f\n",
            "g\n",
            "h\n",
            "i\n",
            "j\n",
            "k\n",
            "l\n",
            "m\n",
            "n\n",
            "o\n",
            "p\n",
            "q\n",
            "r\n",
            "s\n",
            "t\n",
            "u\n",
            "v\n",
            "w\n",
            "x\n",
            "y\n",
            "z\n"
          ]
        }
      ]
    },
    {
      "cell_type": "markdown",
      "source": [
        "# Вітаю! Ви велика(ий) молодець, що впоралась(вся). Похваліть себе та побалуйте чимось приємним. Я Вами пишаюся."
      ],
      "metadata": {
        "id": "Z3E3S_s1Fv7-"
      }
    }
  ]
}